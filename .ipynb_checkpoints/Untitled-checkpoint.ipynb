{
 "cells": [
  {
   "cell_type": "code",
   "execution_count": 2,
   "id": "a9652d45-7493-4e57-8fe3-d9687911268d",
   "metadata": {},
   "outputs": [
    {
     "name": "stdout",
     "output_type": "stream",
     "text": [
      "                TSLA      AAPL        KO\n",
      "Date                                    \n",
      "2017-01-03       NaN       NaN       NaN\n",
      "2017-01-04  0.046085 -0.001119 -0.003589\n",
      "2017-01-05 -0.001057  0.005085  0.002401\n",
      "2017-01-06  0.009967  0.011148 -0.000239\n",
      "2017-01-09  0.009912  0.009160 -0.010063\n"
     ]
    }
   ],
   "source": [
    "#!/usr/bin/env python3\n",
    "import pandas as pd\n",
    "import numpy as np\n",
    "import pandas_datareader.data as web\n",
    "import datetime as dt\n",
    "import matplotlib.pyplot as plt\n",
    "from matplotlib import style\n",
    "\n",
    "# seria interessante ter uma selecao das acoes pra escolher, com bastante variedade\n",
    "# e arrumar algum jeito de fazer as regras de quantias máximas ou mínimas para os tipos\n",
    "# diferentes das acoes, por exemplo, 30% de energia, 30% de bancos e 40% tecnologias...\n",
    "\n",
    "stockAdjClose = './stock_adj_close_brl.csv'\n",
    "marketAdjClose = './market_adj_close_brl.csv'\n",
    "stockRows = 1243\n",
    "stockCols = 62\n",
    "\n",
    "\n",
    "stocks = ['TSLA', 'AAPL', 'KO']\n",
    "start_date = dt.datetime(2017,1,1)\n",
    "end_date = dt.datetime(2022,1,1)\n",
    "\n",
    "number_of_portfolios = 5\n",
    "\n",
    "stock_returns = pd.DataFrame()\n",
    "for stock in stocks:\n",
    "  data = web.DataReader(stock, 'yahoo', start_date, end_date)\n",
    "  data = pd.DataFrame(data)\n",
    "  data[stock] = data['Adj Close'].pct_change()\n",
    "\n",
    "  if stock_returns.empty:\n",
    "    stock_returns = data[[stock]]\n",
    "  else :\n",
    "    stock_returns = stock_returns.join(data[[stock]], how='outer')\n",
    "\n",
    "print(stock_returns.head())\n",
    "# test = web.DataReader([\"ITUB4.SA\", \"FB\"], 'yahoo', start_date, end_date)\n"
   ]
  }
 ],
 "metadata": {
  "kernelspec": {
   "display_name": "venv",
   "language": "python",
   "name": "venv"
  },
  "language_info": {
   "codemirror_mode": {
    "name": "ipython",
    "version": 3
   },
   "file_extension": ".py",
   "mimetype": "text/x-python",
   "name": "python",
   "nbconvert_exporter": "python",
   "pygments_lexer": "ipython3",
   "version": "3.8.9"
  }
 },
 "nbformat": 4,
 "nbformat_minor": 5
}
